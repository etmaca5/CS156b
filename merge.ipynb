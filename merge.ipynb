{
 "cells": [
  {
   "cell_type": "code",
   "execution_count": 2,
   "metadata": {},
   "outputs": [],
   "source": [
    "import numpy as np\n",
    "import pandas as pd"
   ]
  },
  {
   "cell_type": "code",
   "execution_count": 4,
   "metadata": {},
   "outputs": [],
   "source": [
    "mse = pd.read_csv('solution_ids_modified.csv')\n",
    "preds = pd.read_csv('predictions_solution_resnet152.csv')\n",
    "\n",
    "\n",
    "final_df = pd.merge(mse, preds[['Id', 'Pleural Effusion']], on='Id', how='left', suffixes=('', '_preds'))\n",
    "final_df['Pleural Effusion'] = final_df['Pleural Effusion_preds']\n",
    "\n",
    "final_df.drop(columns=['Pleural Effusion_preds'], inplace=True)\n",
    "final_df.to_csv('submission_ish_resnet.csv', index=False)"
   ]
  },
  {
   "cell_type": "code",
   "execution_count": 17,
   "metadata": {},
   "outputs": [],
   "source": [
    "import pandas as pd\n",
    "\n",
    "def clean_and_convert_list(string):\n",
    "    # Remove the leading and trailing characters like quotes and brackets\n",
    "    cleaned_string = string.strip('[]\"')\n",
    "    # Split the string by spaces to form a list, handling multiple spaces\n",
    "    list_of_values = cleaned_string.split()\n",
    "    # Convert strings to integers for IDs, or to floats for scores, based on detected content\n",
    "    if '.' in cleaned_string:  # Assuming scores contain decimal points\n",
    "        return [float(value) for value in list_of_values]\n",
    "    else:\n",
    "        return [int(value) for value in list_of_values]\n",
    "\n",
    "def reformat_csv(input_file, output_file):\n",
    "    # Read the raw file contents\n",
    "    with open(input_file, 'r') as file:\n",
    "        lines = file.readlines()\n",
    "\n",
    "    # Prepare an empty list to hold the reformatted data\n",
    "    reformatted_data = []\n",
    "\n",
    "    # Process each line except the header\n",
    "    for line in lines[1:]:\n",
    "        if '\",\"' not in line:\n",
    "            continue  # Skip lines without proper delimiter\n",
    "        parts = line.strip().split('\",\"')\n",
    "        if len(parts) < 2:\n",
    "            continue  # Skip lines that do not split into two parts correctly\n",
    "        \n",
    "        id_str, score_str = parts[0].strip('\"'), parts[1].strip('\"')\n",
    "        ids = clean_and_convert_list(id_str)\n",
    "        scores = clean_and_convert_list(score_str)\n",
    "        if ids and scores:\n",
    "            # Pair each id with its corresponding score\n",
    "            reformatted_data.extend(zip(ids, scores))\n",
    "\n",
    "    # Create a new DataFrame with the reformatted data\n",
    "    new_df = pd.DataFrame(reformatted_data, columns=['Id', 'Cardiomegaly'])\n",
    "\n",
    "    # Save the new DataFrame to a CSV file\n",
    "    new_df.to_csv(output_file, index=False)\n",
    "\n",
    "reformat_csv('/Users/jamiekwon/CS156b/CS156b/predictions_resnet152_3epoch.csv', '/Users/jamiekwon/CS156b/CS156b/predictions_resnet152_3epoch_fixed.csv')\n"
   ]
  },
  {
   "cell_type": "code",
   "execution_count": 22,
   "metadata": {},
   "outputs": [],
   "source": [
    "# Formatting Error Fixing Script\n",
    "\n",
    "import pandas as pd\n",
    "\n",
    "def parse_list_from_string(string):\n",
    "    # Remove the brackets and split the string into elements based on spaces\n",
    "    cleaned_string = string.strip('[]')\n",
    "    elements = cleaned_string.split()\n",
    "    # Convert the split strings into integers if they are IDs or floats if they are Cardiomegaly values\n",
    "    return [float(x) if '.' in x else int(x) for x in elements]\n",
    "\n",
    "def reformat_csv(input_file, output_file):\n",
    "    # Load the dataset\n",
    "    df = pd.read_csv(input_file)\n",
    "    \n",
    "    # Prepare empty lists to collect all IDs and scores\n",
    "    all_ids = []\n",
    "    all_scores = []\n",
    "    \n",
    "    # Iterate through each row, extend the list with individual entries\n",
    "    for index, row in df.iterrows():\n",
    "        # Convert string representations of list-like strings into actual lists\n",
    "        ids = parse_list_from_string(row['Id'])\n",
    "        scores = parse_list_from_string(row['Cardiomegaly'])\n",
    "        \n",
    "        # Extend the all_ids and all_scores with these values\n",
    "        all_ids.extend(ids)\n",
    "        all_scores.extend(scores)\n",
    "    \n",
    "    # Create a new DataFrame\n",
    "    new_df = pd.DataFrame({\n",
    "        'Id': all_ids,\n",
    "        'Cardiomegaly': all_scores\n",
    "    })\n",
    "    \n",
    "    # Write the DataFrame to a new CSV file\n",
    "    new_df.to_csv(output_file, index=False)\n",
    "\n",
    "# Example usage\n",
    "reformat_csv('/Users/jamiekwon/CS156b/CS156b/predictions_resnet152_3epoch.csv', '/Users/jamiekwon/CS156b/CS156b/predictions_resnet152_3epoch_fixed.csv')\n"
   ]
  },
  {
   "cell_type": "code",
   "execution_count": 25,
   "metadata": {},
   "outputs": [],
   "source": [
    "\n",
    "df = pd.read_csv(\"predictions/best/submission_cardiomegaly_resnet_scaled.csv\")\n",
    "new_df = pd.DataFrame(columns=['Id', 'Cardiomegaly'])\n",
    "new_df['Id'] = df['Id']\n",
    "new_df['Cardiomegaly'] = df['Cardiomegaly']\n",
    "new_df.to_csv(\"predictions/best/cardiomegaly_best.csv\", index=False)\n"
   ]
  },
  {
   "cell_type": "code",
   "execution_count": 4,
   "metadata": {},
   "outputs": [],
   "source": [
    "mse = pd.read_csv('/Users/jamiekwon/CS156b/CS156b/predictions/best/best_may_27.csv')\n",
    "preds = pd.read_csv('/Users/jamiekwon/CS156b/CS156b/predictions_densenet_pleural_effusion.csv')\n",
    "\n",
    "final_df = pd.merge(mse, preds[['Id', 'Pleural Effusion']], on='Id', how='left', suffixes=('', '_preds'))\n",
    "final_df['Pleural Effusion'] = final_df['Pleural Effusion_preds']\n",
    "\n",
    "final_df.drop(columns=['Pleural Effusion_preds'], inplace=True)\n",
    "final_df.to_csv('best_may_28.csv', index=False)"
   ]
  },
  {
   "cell_type": "code",
   "execution_count": 30,
   "metadata": {},
   "outputs": [],
   "source": [
    "\n",
    "df = pd.read_csv(\"/Users/jamiekwon/CS156b/CS156b/mse_lung_opacity.csv\")\n",
    "new_df = pd.DataFrame(columns=['Id', 'Lung Opacity'])\n",
    "new_df['Id'] = df['Id']\n",
    "new_df['Lung Opacity'] = df['Lung Opacity']\n",
    "new_df.to_csv(\"predictions/best/lung_opacity_best.csv\", index=False)\n"
   ]
  },
  {
   "cell_type": "code",
   "execution_count": 31,
   "metadata": {},
   "outputs": [],
   "source": [
    "df = pd.read_csv(\"/Users/jamiekwon/CS156b/CS156b/mse_fracture.csv\")\n",
    "new_df = pd.DataFrame(columns=['Id', 'Fracture'])\n",
    "new_df['Id'] = df['Id']\n",
    "new_df['Fracture'] = df['Fracture']\n",
    "new_df.to_csv(\"predictions/best/fracture_best.csv\", index=False)"
   ]
  },
  {
   "cell_type": "code",
   "execution_count": null,
   "metadata": {},
   "outputs": [],
   "source": []
  }
 ],
 "metadata": {
  "kernelspec": {
   "display_name": "Python 3.10.7 64-bit",
   "language": "python",
   "name": "python3"
  },
  "language_info": {
   "codemirror_mode": {
    "name": "ipython",
    "version": 3
   },
   "file_extension": ".py",
   "mimetype": "text/x-python",
   "name": "python",
   "nbconvert_exporter": "python",
   "pygments_lexer": "ipython3",
   "version": "3.10.7"
  },
  "vscode": {
   "interpreter": {
    "hash": "aee8b7b246df8f9039afb4144a1f6fd8d2ca17a180786b69acc140d282b71a49"
   }
  }
 },
 "nbformat": 4,
 "nbformat_minor": 2
}
