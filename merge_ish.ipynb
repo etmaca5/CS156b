import pandas as pd

# Load the two CSV files
file1 = 'file1.csv'  # replace with your file path
file2 = 'file2.csv'  # replace with your file path

df1 = pd.read_csv(file1)
df2 = pd.read_csv(file2)

# Merge the two dataframes on the 'Id' column
merged_df = pd.merge(df1, df2[['Id', 'Pleural Effusion']], on='Id', how='left', suffixes=('', '_from_file2'))

# Update the 'Pleural Effusion' column in the merged dataframe with the values from df2
merged_df['Pleural Effusion'] = merged_df['Pleural Effusion_from_file2']

# Drop the temporary column
merged_df.drop(columns=['Pleural Effusion_from_file2'], inplace=True)

# Save the merged dataframe to a new CSV file
merged_df.to_csv('merged_file.csv', index=False)

print("Merge complete. The merged file is saved as 'merged_file.csv'.")
