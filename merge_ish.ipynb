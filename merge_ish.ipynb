{
 "cells": [
  {
   "cell_type": "code",
   "execution_count": 2,
   "metadata": {},
   "outputs": [
    {
     "name": "stdout",
     "output_type": "stream",
     "text": [
      "Merge complete. The merged file is saved as 'ish_merged_file.csv'.\n"
     ]
    }
   ],
   "source": [
    "import pandas as pd\n",
    "\n",
    "# File paths\n",
    "file1 = 'predictions/best/mse_submission.csv'\n",
    "file2 = 'predictions_solution_resnet152.csv'\n",
    "\n",
    "# Load the two CSV files\n",
    "df1 = pd.read_csv(file1)\n",
    "df2 = pd.read_csv(file2)\n",
    "\n",
    "# Merge the two dataframes on the 'Id' column, using a left join to keep all rows from df1\n",
    "merged_df = df1.merge(df2[['Id', 'Pleural Effusion']], on='Id', how='left', suffixes=('', '_from_file2'))\n",
    "\n",
    "# Use values from df2 for the 'Pleural Effusion' column\n",
    "merged_df['Pleural Effusion'] = merged_df['Pleural Effusion_from_file2'].combine_first(merged_df['Pleural Effusion'])\n",
    "\n",
    "# Drop the temporary column\n",
    "merged_df.drop(columns=['Pleural Effusion_from_file2'], inplace=True)\n",
    "\n",
    "# Save the merged dataframe to a new CSV file\n",
    "merged_df.to_csv('ish_merged_file.csv', index=False)\n",
    "\n",
    "print(\"Merge complete. The merged file is saved as 'ish_merged_file.csv'.\")\n"
   ]
  }
 ],
 "metadata": {
  "kernelspec": {
   "display_name": "Python 3.10.7 64-bit",
   "language": "python",
   "name": "python3"
  },
  "language_info": {
   "codemirror_mode": {
    "name": "ipython",
    "version": 3
   },
   "file_extension": ".py",
   "mimetype": "text/x-python",
   "name": "python",
   "nbconvert_exporter": "python",
   "pygments_lexer": "ipython3",
   "version": "3.10.7"
  },
  "orig_nbformat": 4,
  "vscode": {
   "interpreter": {
    "hash": "aee8b7b246df8f9039afb4144a1f6fd8d2ca17a180786b69acc140d282b71a49"
   }
  }
 },
 "nbformat": 4,
 "nbformat_minor": 2
}
