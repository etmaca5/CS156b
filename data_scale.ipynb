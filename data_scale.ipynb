{
 "cells": [
  {
   "cell_type": "code",
   "execution_count": 7,
   "metadata": {},
   "outputs": [
    {
     "name": "stdout",
     "output_type": "stream",
     "text": [
      "Original Data:\n",
      "   Id  No Finding  Enlarged Cardiomediastinum  Cardiomegaly  Lung Opacity  \\\n",
      "0  18   -0.734655                   -0.275805       0.19077      0.020577   \n",
      "1  19   -0.734655                   -0.275805       0.19077      0.642165   \n",
      "2  44   -0.734655                   -0.275805       0.19077      0.647662   \n",
      "3  45   -0.734655                   -0.275805       0.19077      0.654029   \n",
      "4  57   -0.734655                   -0.275805       0.19077      0.431500   \n",
      "\n",
      "   Pneumonia  Pleural Effusion  Pleural Other  Fracture  Support Devices  \n",
      "0   0.031183          0.384547       0.521795  0.392374         0.888289  \n",
      "1   0.031183          0.384547       0.521795  0.392374         0.888289  \n",
      "2   0.031183          0.384547       0.521795  0.392374         0.888289  \n",
      "3   0.031183          0.384547       0.521795  0.392374         0.888289  \n",
      "4   0.031183          0.384547       0.521795  0.392374         0.888289  \n",
      "\n",
      "Scaled Data:\n",
      "   Id  No Finding  Enlarged Cardiomediastinum  Cardiomegaly  Lung Opacity  \\\n",
      "0  18   -0.734655                   -0.275805       0.19077     -0.726482   \n",
      "1  19   -0.734655                   -0.275805       0.19077      0.305457   \n",
      "2  44   -0.734655                   -0.275805       0.19077      0.314583   \n",
      "3  45   -0.734655                   -0.275805       0.19077      0.325155   \n",
      "4  57   -0.734655                   -0.275805       0.19077     -0.044281   \n",
      "\n",
      "   Pneumonia  Pleural Effusion  Pleural Other  Fracture  Support Devices  \n",
      "0   0.031183          0.384547       0.521795  0.392374         0.888289  \n",
      "1   0.031183          0.384547       0.521795  0.392374         0.888289  \n",
      "2   0.031183          0.384547       0.521795  0.392374         0.888289  \n",
      "3   0.031183          0.384547       0.521795  0.392374         0.888289  \n",
      "4   0.031183          0.384547       0.521795  0.392374         0.888289  \n",
      "\n",
      "Scaled data saved to /Users/jamiekwon/CS156b/CS156b/mse_lung_opacity_scaled.csv\n"
     ]
    }
   ],
   "source": [
    "import pandas as pd\n",
    "\n",
    "# Load the CSV file\n",
    "file_path = '/Users/jamiekwon/CS156b/CS156b/mse_lung_opacity.csv'  # Update this to the path of your CSV file\n",
    "data = pd.read_csv(file_path)\n",
    "\n",
    "# Print the original data\n",
    "print(\"Original Data:\")\n",
    "print(data.head())\n",
    "\n",
    "# Compute the scaling from -1 to 1\n",
    "min_label = data['Lung Opacity'].min()\n",
    "max_label = data['Lung Opacity'].max()\n",
    "\n",
    "# Apply the scaling transformation\n",
    "data['Lung Opacity'] = 2 * ((data['Lung Opacity'] - min_label) / (max_label - min_label)) - 1\n",
    "\n",
    "# Print the scaled data\n",
    "print(\"\\nScaled Data:\")\n",
    "print(data.head())\n",
    "\n",
    "# Save the modified data to a new CSV file\n",
    "output_file_path = '/Users/jamiekwon/CS156b/CS156b/mse_lung_opacity_scaled.csv'  # Update this to where you want to save the new file\n",
    "data.to_csv(output_file_path, index=False)\n",
    "\n",
    "print(f\"\\nScaled data saved to {output_file_path}\")\n"
   ]
  },
  {
   "cell_type": "code",
   "execution_count": null,
   "metadata": {},
   "outputs": [],
   "source": []
  }
 ],
 "metadata": {
  "kernelspec": {
   "display_name": "base",
   "language": "python",
   "name": "python3"
  },
  "language_info": {
   "codemirror_mode": {
    "name": "ipython",
    "version": 3
   },
   "file_extension": ".py",
   "mimetype": "text/x-python",
   "name": "python",
   "nbconvert_exporter": "python",
   "pygments_lexer": "ipython3",
   "version": "3.10.14"
  }
 },
 "nbformat": 4,
 "nbformat_minor": 2
}
