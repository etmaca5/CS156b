{
 "cells": [
  {
   "cell_type": "code",
   "execution_count": 1,
   "metadata": {},
   "outputs": [],
   "source": [
    "import numpy as np\n",
    "import pandas as pd\n",
    "\n",
    "def merge_csv(curr_best_file, merge_files, output_file):\n",
    "    new_best = pd.read_csv(curr_best_file)\n",
    "    for pathology, file in merge_files:\n",
    "        preds = pd.read_csv(file)\n",
    "        new_best[pathology] = preds[pathology]\n",
    "    new_best.to_csv(output_file, index=False)\n",
    "\n",
    "curr_best_file = '/Users/jackmyles/Documents/Caltech/CS156b/best_may_28_1.csv'\n",
    "merge_files = [(), ()]\n",
    "output_file = 'submission_attempt.csv'\n",
    "\n",
    "merge_csv(curr_best_file, merge_files, output_file)\n",
    "        "
   ]
  }
 ],
 "metadata": {
  "kernelspec": {
   "display_name": "Python 3",
   "language": "python",
   "name": "python3"
  },
  "language_info": {
   "codemirror_mode": {
    "name": "ipython",
    "version": 3
   },
   "file_extension": ".py",
   "mimetype": "text/x-python",
   "name": "python",
   "nbconvert_exporter": "python",
   "pygments_lexer": "ipython3",
   "version": "3.11.4"
  }
 },
 "nbformat": 4,
 "nbformat_minor": 2
}
