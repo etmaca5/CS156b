{
 "cells": [
  {
   "cell_type": "code",
   "execution_count": 3,
   "metadata": {},
   "outputs": [
    {
     "name": "stdout",
     "output_type": "stream",
     "text": [
      "Modified CSV file saved as solution_ids_modified.csv\n"
     ]
    }
   ],
   "source": [
    "import pandas as pd\n",
    "\n",
    "# Load the CSV file\n",
    "file_path = 'solution_ids.csv'\n",
    "df = pd.read_csv(file_path)\n",
    "\n",
    "# Drop the Path column\n",
    "df.drop(columns=['Path'], inplace=True)\n",
    "\n",
    "# Add the new columns with specified values\n",
    "columns_to_add = {\n",
    "    \"No Finding\": -0.7346546991563242,\n",
    "    \"Enlarged Cardiomediastinum\": -0.2758050343722541,\n",
    "    \"Cardiomegaly\": 0.19076953163195462,\n",
    "    \"Lung Opacity\": 0.836288041872441,\n",
    "    \"Pneumonia\": 0.031182942975848057,\n",
    "    \"Pleural Effusion\": 0.38454690282072906,\n",
    "    \"Pleural Other\": 0.5217951075961008,\n",
    "    \"Fracture\": 0.39237415477084897,\n",
    "    \"Support Devices\": 0.8882885572139303\n",
    "}\n",
    "\n",
    "for column, value in columns_to_add.items():\n",
    "    df[column] = value\n",
    "\n",
    "# Save the new CSV file\n",
    "new_file_path = 'solution_ids_modified.csv'\n",
    "df.to_csv(new_file_path, index=False)\n",
    "\n",
    "print(f\"Modified CSV file saved as {new_file_path}\")\n"
   ]
  }
 ],
 "metadata": {
  "kernelspec": {
   "display_name": "Python 3.10.7 64-bit",
   "language": "python",
   "name": "python3"
  },
  "language_info": {
   "codemirror_mode": {
    "name": "ipython",
    "version": 3
   },
   "file_extension": ".py",
   "mimetype": "text/x-python",
   "name": "python",
   "nbconvert_exporter": "python",
   "pygments_lexer": "ipython3",
   "version": "3.10.7"
  },
  "orig_nbformat": 4,
  "vscode": {
   "interpreter": {
    "hash": "aee8b7b246df8f9039afb4144a1f6fd8d2ca17a180786b69acc140d282b71a49"
   }
  }
 },
 "nbformat": 4,
 "nbformat_minor": 2
}
