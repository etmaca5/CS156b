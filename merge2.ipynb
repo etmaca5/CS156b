{
 "cells": [
  {
   "cell_type": "code",
   "execution_count": null,
   "metadata": {},
   "outputs": [],
   "source": [
    "import pandas as pd\n",
    "\n",
    "# Load the CSV file\n",
    "file_path = '/groups/CS156b/data/student_labels/solution_ids.csv'\n",
    "df = pd.read_csv(file_path)\n",
    "\n",
    "# Calculate the average for each column except 'Id'\n",
    "columns_to_average = df.columns[1:]\n",
    "averages = df[columns_to_average].mean()\n",
    "\n",
    "# Assign each value in the columns to the calculated average\n",
    "for column in columns_to_average:\n",
    "    df[column] = averages[column]\n",
    "\n",
    "# Save the modified DataFrame back to a CSV file (optional)\n",
    "output_file_path = 'test_mse_submission.csv'\n",
    "df.to_csv(output_file_path, index=False)\n",
    "\n"
   ]
  }
 ],
 "metadata": {
  "kernelspec": {
   "display_name": "Python 3.10.7 64-bit",
   "language": "python",
   "name": "python3"
  },
  "language_info": {
   "name": "python",
   "version": "3.10.7"
  },
  "orig_nbformat": 4,
  "vscode": {
   "interpreter": {
    "hash": "aee8b7b246df8f9039afb4144a1f6fd8d2ca17a180786b69acc140d282b71a49"
   }
  }
 },
 "nbformat": 4,
 "nbformat_minor": 2
}
